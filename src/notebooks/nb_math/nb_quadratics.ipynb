{
 "cells": [
  {
   "cell_type": "code",
   "execution_count": null,
   "metadata": {},
   "outputs": [],
   "source": [
    "%matplotlib inline\n",
    "import numpy as np\n",
    "import matplotlib.pyplot as plt\n",
    "import ipywidgets as widgets"
   ]
  },
  {
   "attachments": {},
   "cell_type": "markdown",
   "metadata": {},
   "source": [
    "## Interactive Visualization of Polynomial Functions"
   ]
  },
  {
   "attachments": {},
   "cell_type": "markdown",
   "metadata": {},
   "source": [
    "Polynomial functions are defined as $f(x) = a_n x^n + a_{n-1} x^{n-1} + ... + a_1 x + a_0$\n",
    "\n",
    "Run the following code will plot a polynomial function up to order of 5:"
   ]
  },
  {
   "cell_type": "code",
   "execution_count": null,
   "metadata": {},
   "outputs": [],
   "source": [
    "def polynomial_func_5(a0, a1, a2, a3, a4, a5):\n",
    "    x = np.linspace(-10,10,num=1000)\n",
    "    func = lambda x : a5 * x**5 + a4 * x**4 + a3 * x**3 + a2 * x**2 + a1 * x + a0\n",
    "\n",
    "    plt.figure(figsize=(12, 8))\n",
    "    plt.ylim(-10, 10)\n",
    "    plt.xlim(-10, 10)\n",
    "    plt.axvline(color='black')\n",
    "    plt.axhline(color='black')\n",
    "    plt.plot(x, func(x), lw=3, color ='blue')\n",
    "    plt.grid()\n",
    "    plt.show()\n",
    "\n",
    "interactive_plot = widgets.interactive(polynomial_func_5, a0=(-5.0,5.0), a1=(-5.0,5.0), a2=(-5.0,5.0), a3=(-5.0,5.0), a4=(-5.0,5.0), a5=(-5.0,5.0))\n",
    "output = interactive_plot.children[-1]\n",
    "interactive_plot"
   ]
  },
  {
   "attachments": {},
   "cell_type": "markdown",
   "metadata": {},
   "source": [
    "## Graphing Quadratic"
   ]
  },
  {
   "attachments": {},
   "cell_type": "markdown",
   "metadata": {},
   "source": [
    "Graph a quadratic equation in standard form: $f(x) = x^2 - 8x + 15$\n",
    "\n",
    "Please run the following cells to answer the questions with sliders and dropbox: "
   ]
  },
  {
   "cell_type": "code",
   "execution_count": null,
   "metadata": {},
   "outputs": [],
   "source": [
    "coef_a_ans = 0\n",
    "coef_b_ans = 0\n",
    "coef_c_ans = 0\n",
    "def get_abc(a, b, c):\n",
    "    global coef_a_ans, coef_b_ans, coef_c_ans\n",
    "    (coef_a_ans, coef_b_ans, coef_c_ans) = (a, b, c)\n",
    "\n",
    "print(\"Please set the correct value of a, b, c:\")\n",
    "widgets.interact(get_abc, a=(-20, 20), b=(-20,20), c=(-20,20))"
   ]
  },
  {
   "cell_type": "code",
   "execution_count": null,
   "metadata": {},
   "outputs": [],
   "source": [
    "vertex_x_ans = 0\n",
    "vertex_y_ans = 0\n",
    "def get_vertex(vertex_x, vertex_y):\n",
    "    global vertex_x_ans, vertex_y_ans\n",
    "    (vertex_x_ans, vertex_y_ans) = (vertex_x, vertex_y)\n",
    "\n",
    "print(\"Please set the correct value of vertex coordinate [x, y]:\")\n",
    "widgets.interact(get_vertex, vertex_x=(-20, 20), vertex_y=(-20, 20))"
   ]
  },
  {
   "cell_type": "code",
   "execution_count": null,
   "metadata": {},
   "outputs": [],
   "source": [
    "open_direction_ans = 0\n",
    "def get_open_direction(open_direction):\n",
    "    global open_direction_ans\n",
    "    open_direction_ans = open_direction\n",
    "\n",
    "widgets.interact(get_open_direction, open_direction=['Downward', 'Upward'])"
   ]
  },
  {
   "cell_type": "code",
   "execution_count": null,
   "metadata": {},
   "outputs": [],
   "source": [
    "import numpy as np\n",
    "import matplotlib.pyplot as plt\n",
    "def draw_quadratic(vertex_x, vertex_y, open_direction):\n",
    "    a = 1\n",
    "    if open_direction == 'Downward':\n",
    "        a = -1\n",
    "\n",
    "    plt.figure(2)\n",
    "    x = np.linspace(-10,10,num=1000)\n",
    "    plt.ylim(-20, 20)\n",
    "    plt.axvline(color='black')\n",
    "    plt.axhline(color='black')\n",
    "    plt.plot(x, a * (x - vertex_x) ** 2 + vertex_y, lw=1, color ='red')\n",
    "    plt.grid()\n",
    "    plt.show()\n",
    "\n",
    "print(open_direction_ans)\n",
    "draw_quadratic(vertex_x_ans, vertex_y_ans, open_direction_ans)"
   ]
  },
  {
   "attachments": {},
   "cell_type": "markdown",
   "metadata": {},
   "source": [
    "### Check your answer:"
   ]
  },
  {
   "cell_type": "code",
   "execution_count": null,
   "metadata": {},
   "outputs": [],
   "source": [
    "if (coef_a_ans == 1) and (coef_b_ans == -8) and (coef_c_ans == 15):\n",
    "    print(\"The coefficients [a, b, c] are answered correctly.\")\n",
    "else:\n",
    "    print(\"Incorrect answer: the coefficients [a, b, c] are wrong.\")\n",
    "\n",
    "if (vertex_x_ans == 4) and (vertex_y_ans == -1):\n",
    "    print(\"The vertex coordinate [x, y] are answered correctly.\")\n",
    "else:\n",
    "    print(\"Incorrect answer: the vertex coordinate [x, y] are wrong.\")\n",
    "\n",
    "if (open_direction_ans == 'Upward'):\n",
    "    print(\"The opening direction is answered correctly.\")\n",
    "else:\n",
    "    print(\"Incorrect answer: the opening direction is wrong.\")\n"
   ]
  },
  {
   "attachments": {},
   "cell_type": "markdown",
   "metadata": {},
   "source": [
    "## Reference"
   ]
  },
  {
   "attachments": {},
   "cell_type": "markdown",
   "metadata": {},
   "source": [
    "For equation: $f(x) = x^2 - 8x + 15$"
   ]
  },
  {
   "attachments": {},
   "cell_type": "markdown",
   "metadata": {},
   "source": [
    "1. This function is in standard quadratic form with $a = 1$, $b = -8$, $c = 15$"
   ]
  },
  {
   "attachments": {},
   "cell_type": "markdown",
   "metadata": {},
   "source": [
    "2. Find the line of symetry: it is also the mid point between the two roots, hence $x = (r_1 + r_2)/2 = \\frac{-b}{2a} = 4$"
   ]
  },
  {
   "attachments": {},
   "cell_type": "markdown",
   "metadata": {},
   "source": [
    "3. Find y coordinate of vertex: $f(x = 4) = 4^2 - 8 * 4 + 15 = -1$ "
   ]
  },
  {
   "cell_type": "code",
   "execution_count": null,
   "metadata": {},
   "outputs": [],
   "source": []
  }
 ],
 "metadata": {
  "interpreter": {
   "hash": "d14c38d234234b969aee73678d168700778a98933f098d78df9f79a7508c5a93"
  },
  "kernelspec": {
   "display_name": "Python 3.9.7 ('dev')",
   "language": "python",
   "name": "python3"
  },
  "language_info": {
   "codemirror_mode": {
    "name": "ipython",
    "version": 3
   },
   "file_extension": ".py",
   "mimetype": "text/x-python",
   "name": "python",
   "nbconvert_exporter": "python",
   "pygments_lexer": "ipython3",
   "version": "3.9.7"
  }
 },
 "nbformat": 4,
 "nbformat_minor": 2
}
