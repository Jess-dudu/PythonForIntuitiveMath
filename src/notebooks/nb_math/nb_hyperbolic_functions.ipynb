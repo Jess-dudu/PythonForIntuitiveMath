{
 "cells": [
  {
   "cell_type": "code",
   "execution_count": 1,
   "metadata": {},
   "outputs": [],
   "source": [
    "%matplotlib inline\n",
    "import numpy as np\n",
    "import matplotlib.pyplot as plt\n",
    "import ipywidgets as widgets"
   ]
  },
  {
   "cell_type": "markdown",
   "metadata": {},
   "source": [
    "## Hyperbolic Functions"
   ]
  },
  {
   "cell_type": "markdown",
   "metadata": {},
   "source": [
    "#### Gateway Arch designed with a cosh function"
   ]
  },
  {
   "cell_type": "markdown",
   "metadata": {},
   "source": [
    "#### Basic Hyperbolic Function Definitions"
   ]
  },
  {
   "cell_type": "markdown",
   "metadata": {},
   "source": [
    "$\n",
    "\\begin{aligned}\n",
    "\\qquad y = \\sinh(x) &= \\frac{e^x - e^{-x}}{2}, \\qquad & x \\in (-\\inf, \\inf), \\qquad & y \\in (-\\inf, \\inf) \\\\\n",
    "\\qquad y = \\cosh(x) &= \\frac{e^x + e^{-x}}{2}, \\qquad & x \\in (-\\inf, \\inf), \\qquad & y \\in (1, \\inf) \\\\\n",
    "\\qquad y = \\tanh(x) &= \\frac{e^x - e^{-x}}{e^x + e^{-x}} = \\frac{\\sinh(x)}{\\cosh(x)}, \\qquad & x \\in (-\\inf, \\inf), \\qquad & y \\in (-1, 1) \n",
    "\\end{aligned}\n",
    "$"
   ]
  },
  {
   "cell_type": "code",
   "execution_count": 2,
   "metadata": {},
   "outputs": [
    {
     "data": {
      "application/vnd.jupyter.widget-view+json": {
       "model_id": "0a1696ba650a42ddb663cbf538974ca1",
       "version_major": 2,
       "version_minor": 0
      },
      "text/plain": [
       "interactive(children=(FloatSlider(value=1.0, description='a', max=1.8, min=0.2), Output()), _dom_classes=('wid…"
      ]
     },
     "execution_count": 2,
     "metadata": {},
     "output_type": "execute_result"
    }
   ],
   "source": [
    "def plot_hyperbolic_funcs(a):\n",
    "    x = np.linspace(-10, 10, num=1000)\n",
    "    func_cosh = lambda x : a * np.cosh(x / a)\n",
    "    func_sinh = lambda x : a * np.sinh(x / a)\n",
    "    func_tanh = lambda x : a * np.tanh(x / a)\n",
    "\n",
    "    func_exp_p = lambda x : a * np.exp(x / a) / 2\n",
    "    func_exp_n = lambda x : - a * np.exp( -x / a) / 2\n",
    "\n",
    "    plt.figure(figsize=(6, 4))\n",
    "    plt.ylim(-5, 5)\n",
    "    plt.xlim(-5, 5)\n",
    "    # plt.axvline(color='black')\n",
    "    # plt.axhline(color='black')\n",
    "    plt.plot(x, func_exp_p(x), 'k:', lw = 1) \n",
    "    plt.plot(x, func_exp_n(x), 'k--', lw = 1) \n",
    "    plt.plot(x, func_sinh(x), lw=2, color ='red')   # sinh\n",
    "    plt.plot(x, func_cosh(x), lw=2, color ='blue')  # cosh\n",
    "    plt.plot(x, func_tanh(x), lw=2, color ='green') # tanh\n",
    "\n",
    "    if a == 1.0:\n",
    "        plt.legend([' exp(x) / 2', '-exp(-x) / 2', ' sinh(x)', ' cosh(x)', ' tanh(x)']) \n",
    "    else:\n",
    "        plt.legend(['  a * exp(x/a) / 2', '- a * exp(-x/a) / 2', '  a * sinh(x/a)', '  a * cosh(x/a)', '  a * tanh(x/a)']) \n",
    "    plt.grid()\n",
    "    plt.show()\n",
    "\n",
    "interactive_plot = widgets.interactive(plot_hyperbolic_funcs, a=(0.2, 1.8))\n",
    "output = interactive_plot.children[-1]\n",
    "interactive_plot"
   ]
  },
  {
   "cell_type": "markdown",
   "metadata": {},
   "source": [
    "#### Usage In Real Life"
   ]
  },
  {
   "cell_type": "markdown",
   "metadata": {},
   "source": [
    "| Hyperbolic Function | Examples In Real Life | Image |\n",
    "|:-------------------:|:------------:|:-----:|\n",
    "| $$ y = c + a \\cosh(x/a) $$ | Hanging cable with minimal potential energy | <img src=\"./figs_hyperbolic/HangingCable.png\" alt=\"Hanging Cable\" width=\"300\"/> |\n",
    "| $$ y = c + a \\cosh(x/a) $$ | Minimal soap film surface area | <img src=\"./figs_hyperbolic/SoapFilmBetweenRings.png\" alt=\"Soap Film\" width=\"300\"/> |\n",
    "| $$ v = \\sqrt{\\frac{gL}{2\\pi} \\tanh(\\frac{2 \\pi d}{L})} $$ | Speed of ocean wave | <img src=\"./figs_hyperbolic/OceanWaves.png\" alt=\"Ocean Waves\" width=\"300\"/> |\n",
    "| $$ y = c - a \\cosh(x/a) $$ | Gateway Arch in St. Louis | <img src=\"./figs_hyperbolic/GatewayArchStLouis.png\" alt=\"Gateway Arch\" width=\"300\"/> |\n"
   ]
  },
  {
   "cell_type": "markdown",
   "metadata": {},
   "source": [
    "#### Similarities with Trigonometric Functions: Unit Circle vs. Hyperbola"
   ]
  },
  {
   "cell_type": "markdown",
   "metadata": {},
   "source": [
    "| Trigonometric Functions | Hyperbolic Functions |\n",
    "|:-----------------------:|:--------------------:|\n",
    "| $$x^2 \\textcolor{red}{+} y^2 = 1$$ $$x = \\cos(a)$$ $$y = \\sin(a)$$   | $$x^2 \\textcolor{red}{-} y^2 = 1, \\qquad x \\ge 1$$  $$x = \\cosh(a)$$  $$y = \\sinh(a)$$     |\n",
    "| <img src=\"./figs_hyperbolic/TrigFunctions.png\" alt=\"Trigonomic Functions\" width=\"250\"/> | <img src=\"./figs_hyperbolic/HyperbolicFunctions.png\" alt=\"Hyperbolic Functions\" width=\"300\"/> |\n",
    "| $$\\cos^2(a) \\textcolor{red}{+} \\sin^2(a) = 1$$  $$Area(red) = a/2$$  | $$\\cosh^2(a) \\textcolor{red}{-} \\sinh^2(a) = 1$$  $$Area(red) = a/2$$ |\n"
   ]
  },
  {
   "cell_type": "markdown",
   "metadata": {},
   "source": [
    "#### Identities Compared with Trigonometric Functions"
   ]
  },
  {
   "cell_type": "markdown",
   "metadata": {},
   "source": [
    "Trigonometric Identities:\n",
    "\n",
    "$\n",
    "\\begin{aligned}\n",
    "& \\sin(-x) = -\\sin(x) \\\\ \n",
    "& \\cos(-x) = \\cos(x) \\\\\n",
    "& \\cos^2(a) \\textcolor{red}{+} \\sin^2(a) = 1 \\\\\n",
    "& 1 \\textcolor{red}{+} \\tan^2(x) = \\sec^2(x) \\\\\n",
    "& \\sin(x + y) = \\sin(x)\\cos(y) + \\cos(x)\\sin(y) \\\\\n",
    "& \\cos(x + y) = \\cos(x)\\cos(y) \\textcolor{red}{-} \\sin(x)\\sin(y)\n",
    "\\end{aligned}\n",
    "$\n",
    "\n",
    "Hyperbolic Identities:\n",
    "\n",
    "$\n",
    "\\begin{aligned}\n",
    "& \\sinh(-x) = -\\sinh(x) \\\\ \n",
    "& \\cosh(-x) = \\cosh(x) \\\\\n",
    "& \\cosh^2(a) \\textcolor{red}{-} \\sinh^2(a) = 1 \\\\\n",
    "& 1 \\textcolor{red}{-} \\tanh^2(x) = \\operatorname{sech}^2(x) \\\\\n",
    "& \\sinh(x + y) = \\sinh(x)\\cosh(y) + \\cosh(x)\\sinh(y) \\\\\n",
    "& \\cosh(x + y) = \\cosh(x)\\cosh(y) \\textcolor{red}{+} \\sinh(x)\\sinh(y)\n",
    "\\end{aligned}\n",
    "$"
   ]
  },
  {
   "cell_type": "markdown",
   "metadata": {},
   "source": []
  },
  {
   "cell_type": "markdown",
   "metadata": {},
   "source": []
  }
 ],
 "metadata": {
  "kernelspec": {
   "display_name": "dev",
   "language": "python",
   "name": "python3"
  },
  "language_info": {
   "codemirror_mode": {
    "name": "ipython",
    "version": 3
   },
   "file_extension": ".py",
   "mimetype": "text/x-python",
   "name": "python",
   "nbconvert_exporter": "python",
   "pygments_lexer": "ipython3",
   "version": "3.12.4"
  }
 },
 "nbformat": 4,
 "nbformat_minor": 4
}
