{
 "cells": [
  {
   "cell_type": "code",
   "execution_count": null,
   "metadata": {},
   "outputs": [],
   "source": [
    "%matplotlib inline\n",
    "import numpy as np\n",
    "import matplotlib.pyplot as plt\n",
    "import ipywidgets as widgets"
   ]
  },
  {
   "attachments": {},
   "cell_type": "markdown",
   "metadata": {},
   "source": [
    "## Interactive Visualization of Polynomial Functions"
   ]
  },
  {
   "attachments": {},
   "cell_type": "markdown",
   "metadata": {},
   "source": [
    "#### Standard Form"
   ]
  },
  {
   "attachments": {},
   "cell_type": "markdown",
   "metadata": {},
   "source": [
    "Polynomial functions are defined as $f(x) = a_n x^n + a_{n-1} x^{n-1} + ... + a_1 x + a_0$\n",
    "\n",
    "Run the following code will plot a polynomial function up to order of 5:"
   ]
  },
  {
   "cell_type": "code",
   "execution_count": null,
   "metadata": {},
   "outputs": [],
   "source": [
    "def polynomial_func_5(a0, a1, a2, a3, a4, a5):\n",
    "    x = np.linspace(-10,10,num=1000)\n",
    "    func = lambda x : a5 * x**5 + a4 * x**4 + a3 * x**3 + a2 * x**2 + a1 * x + a0\n",
    "\n",
    "    plt.figure(figsize=(12, 8))\n",
    "    plt.ylim(-100, 100)\n",
    "    plt.xlim(-10, 10)\n",
    "    plt.axvline(color='black')\n",
    "    plt.axhline(color='black')\n",
    "    plt.plot(x, func(x), lw=3, color ='blue')\n",
    "    plt.grid()\n",
    "    plt.show()\n",
    "\n",
    "interactive_plot = widgets.interactive(polynomial_func_5, a0=(-100.0,100.0), a1=(-5.0,5.0), a2=(-5.0,5.0), a3=(-5.0,5.0), a4=(-5.0,5.0), a5=(-5.0,5.0))\n",
    "output = interactive_plot.children[-1]\n",
    "interactive_plot"
   ]
  },
  {
   "attachments": {},
   "cell_type": "markdown",
   "metadata": {},
   "source": [
    "#### Factored Form"
   ]
  },
  {
   "cell_type": "code",
   "execution_count": null,
   "metadata": {},
   "outputs": [],
   "source": [
    "def polynomial_func_factor5(r0, r1, r2, r3, r4, a5 = 1):\n",
    "    x = np.linspace(-10,10,num=1000)\n",
    "    func = lambda x : a5 * (x - r0) * (x - r1) * (x - r2) * (x - r3) * (x - r4)\n",
    "\n",
    "    plt.figure(figsize=(12, 8))\n",
    "    plt.ylim(-100, 100)\n",
    "    plt.xlim(-10, 10)\n",
    "    plt.axvline(color='black')\n",
    "    plt.axhline(color='black')\n",
    "    plt.plot(x, func(x), lw=3, color ='blue')\n",
    "    plt.plot(x, x-r0)\n",
    "    plt.plot(x, x-r1)\n",
    "    plt.plot(x, x-r2)\n",
    "    plt.plot(x, x-r3)\n",
    "    plt.plot(x, x-r4)\n",
    "    plt.grid()\n",
    "    plt.show()\n",
    "\n",
    "interactive_plot = widgets.interactive(polynomial_func_factor5, r0=(-5.0,5.0), r1=(-5.0,5.0), r2=(-5.0,5.0), r3=(-5.0,5.0), r4=(-5.0,5.0), a5=(-5.0,5.0))\n",
    "output = interactive_plot.children[-1]\n",
    "interactive_plot"
   ]
  },
  {
   "attachments": {},
   "cell_type": "markdown",
   "metadata": {},
   "source": [
    "## Quadratics in Standard Form"
   ]
  },
  {
   "attachments": {},
   "cell_type": "markdown",
   "metadata": {},
   "source": [
    "Graph a quadratic equation in standard form: $f(x) = x^2 - 8x + 15$\n",
    "\n",
    "Please run the following cells to answer the questions with sliders and dropbox: "
   ]
  },
  {
   "cell_type": "code",
   "execution_count": null,
   "metadata": {},
   "outputs": [],
   "source": [
    "coef_a_ans = 0\n",
    "coef_b_ans = 0\n",
    "coef_c_ans = 0\n",
    "def get_abc(a, b, c):\n",
    "    global coef_a_ans, coef_b_ans, coef_c_ans\n",
    "    (coef_a_ans, coef_b_ans, coef_c_ans) = (a, b, c)\n",
    "\n",
    "print(\"Please set the correct value of a, b, c:\")\n",
    "widgets.interact(get_abc, a=(-20, 20), b=(-20,20), c=(-20,20))"
   ]
  },
  {
   "cell_type": "code",
   "execution_count": null,
   "metadata": {},
   "outputs": [],
   "source": [
    "vertex_x_ans = 0\n",
    "vertex_y_ans = 0\n",
    "def get_vertex(vertex_x, vertex_y):\n",
    "    global vertex_x_ans, vertex_y_ans\n",
    "    (vertex_x_ans, vertex_y_ans) = (vertex_x, vertex_y)\n",
    "\n",
    "print(\"Please set the correct value of vertex coordinate [x, y]:\")\n",
    "widgets.interact(get_vertex, vertex_x=(-20, 20), vertex_y=(-20, 20))"
   ]
  },
  {
   "cell_type": "code",
   "execution_count": null,
   "metadata": {},
   "outputs": [],
   "source": [
    "open_direction_ans = 0\n",
    "def get_open_direction(open_direction):\n",
    "    global open_direction_ans\n",
    "    open_direction_ans = open_direction\n",
    "\n",
    "widgets.interact(get_open_direction, open_direction=['Downward', 'Upward'])"
   ]
  },
  {
   "cell_type": "code",
   "execution_count": null,
   "metadata": {},
   "outputs": [],
   "source": [
    "import numpy as np\n",
    "import matplotlib.pyplot as plt\n",
    "def draw_quadratic(vertex_x, vertex_y, open_direction):\n",
    "    a = 1\n",
    "    if open_direction == 'Downward':\n",
    "        a = -1\n",
    "\n",
    "    plt.figure(2)\n",
    "    x = np.linspace(-10,10,num=1000)\n",
    "    plt.ylim(-20, 20)\n",
    "    plt.axvline(color='black')\n",
    "    plt.axhline(color='black')\n",
    "    plt.plot(x, a * (x - vertex_x) ** 2 + vertex_y, lw=1, color ='red')\n",
    "    plt.grid()\n",
    "    plt.show()\n",
    "\n",
    "print(open_direction_ans)\n",
    "draw_quadratic(vertex_x_ans, vertex_y_ans, open_direction_ans)"
   ]
  },
  {
   "attachments": {},
   "cell_type": "markdown",
   "metadata": {},
   "source": [
    "### Check your answer:"
   ]
  },
  {
   "cell_type": "code",
   "execution_count": null,
   "metadata": {},
   "outputs": [],
   "source": [
    "if (coef_a_ans == 1) and (coef_b_ans == -8) and (coef_c_ans == 15):\n",
    "    print(\"The coefficients [a, b, c] are answered correctly.\")\n",
    "else:\n",
    "    print(\"Incorrect answer: the coefficients [a, b, c] are wrong.\")\n",
    "\n",
    "if (vertex_x_ans == 4) and (vertex_y_ans == -1):\n",
    "    print(\"The vertex coordinate [x, y] are answered correctly.\")\n",
    "else:\n",
    "    print(\"Incorrect answer: the vertex coordinate [x, y] are wrong.\")\n",
    "\n",
    "if (open_direction_ans == 'Upward'):\n",
    "    print(\"The opening direction is answered correctly.\")\n",
    "else:\n",
    "    print(\"Incorrect answer: the opening direction is wrong.\")\n"
   ]
  },
  {
   "attachments": {},
   "cell_type": "markdown",
   "metadata": {},
   "source": [
    "### Reference"
   ]
  },
  {
   "attachments": {},
   "cell_type": "markdown",
   "metadata": {},
   "source": [
    "For equation: $f(x) = x^2 - 8x + 15$"
   ]
  },
  {
   "attachments": {},
   "cell_type": "markdown",
   "metadata": {},
   "source": [
    "1. This function is in standard quadratic form with $a = 1$, $b = -8$, $c = 15$"
   ]
  },
  {
   "attachments": {},
   "cell_type": "markdown",
   "metadata": {},
   "source": [
    "2. Find the line of symetry: it is also the mid point between the two roots, hence $x = (r_1 + r_2)/2 = \\frac{-b}{2a} = 4$"
   ]
  },
  {
   "attachments": {},
   "cell_type": "markdown",
   "metadata": {},
   "source": [
    "3. Find y coordinate of vertex: $f(x = 4) = 4^2 - 8 * 4 + 15 = -1$ "
   ]
  },
  {
   "attachments": {},
   "cell_type": "markdown",
   "metadata": {},
   "source": [
    "## Quadratics in Vertex Form"
   ]
  },
  {
   "attachments": {},
   "cell_type": "markdown",
   "metadata": {},
   "source": [
    "Quadratics in vertex form: $f(x) = a(x - h)^2 + k$\n",
    "\n",
    "Run the following code will show a interactive plot of quadratics in vertex form:"
   ]
  },
  {
   "cell_type": "code",
   "execution_count": null,
   "metadata": {},
   "outputs": [],
   "source": [
    "def draw_quadratic_vertex(a, h, k):\n",
    "    x = np.linspace(-10,10,num=1000)\n",
    "    func = lambda x : a * (x - h)**2 + k\n",
    "\n",
    "    plt.figure(figsize=(12, 8))\n",
    "    plt.ylim(-10, 10)\n",
    "    plt.xlim(-10, 10)\n",
    "    plt.axvline(color='black')\n",
    "    plt.axhline(color='black')\n",
    "    plt.plot(x, func(x), lw=3, color ='blue')\n",
    "    plt.grid()\n",
    "    plt.show()\n",
    "\n",
    "interactive_plot = widgets.interactive(draw_quadratic_vertex, a=(-5.0,5.0), h=(-10.0,10.0), k=(-10.0,10.0))\n",
    "output = interactive_plot.children[-1]\n",
    "interactive_plot"
   ]
  },
  {
   "attachments": {},
   "cell_type": "markdown",
   "metadata": {},
   "source": [
    "## Quadratics in Factored Form"
   ]
  },
  {
   "attachments": {},
   "cell_type": "markdown",
   "metadata": {},
   "source": [
    "Quadratics in factored form: $f(x) = a(x - r_1)(x - r_2)$\n",
    "\n",
    "Run the following code will show a interactive plot of quadratics in factored form:"
   ]
  },
  {
   "cell_type": "code",
   "execution_count": null,
   "metadata": {},
   "outputs": [],
   "source": [
    "def draw_quadratic_factored(a, r1, r2):\n",
    "    x = np.linspace(-10,10,num=1000)\n",
    "    func = lambda x : a * (x - r1) * (x - r2)\n",
    "\n",
    "    plt.figure(figsize=(12, 8))\n",
    "    plt.ylim(-10, 10)\n",
    "    plt.xlim(-10, 10)\n",
    "    plt.axvline(color='black')\n",
    "    plt.axhline(color='black')\n",
    "    plt.plot(x, func(x), lw=3, color ='blue')\n",
    "    plt.plot(x, a * (x - r1), color = 'g')\n",
    "    plt.plot(x, x - r2, color = 'r')\n",
    "    plt.grid()\n",
    "    plt.show()\n",
    "\n",
    "interactive_plot = widgets.interactive(draw_quadratic_factored, a=(-5.0,5.0), r1=(-10.0,10.0), r2=(-10.0,10.0))\n",
    "output = interactive_plot.children[-1]\n",
    "interactive_plot"
   ]
  },
  {
   "attachments": {},
   "cell_type": "markdown",
   "metadata": {},
   "source": [
    "## How to Always Find Factor Form (for Quadratics)?"
   ]
  },
  {
   "attachments": {},
   "cell_type": "markdown",
   "metadata": {},
   "source": [
    "Po-shen Loh's method: https://www.poshenloh.com/quadraticdetail/\n",
    "\n"
   ]
  },
  {
   "attachments": {},
   "cell_type": "markdown",
   "metadata": {},
   "source": [
    "## Vieta's Formulas"
   ]
  },
  {
   "attachments": {},
   "cell_type": "markdown",
   "metadata": {},
   "source": [
    "Any general polynormial of degree $n$ ($a_n \\neq 0$) has $n$ (not necessarily distinct) complex roots $r_1, r_2, \\dotsc, r_n$. The polynomial can be expressed in a factored form:\n",
    "\n",
    "$f(x) = a_n x^n + a_{n-1} x^{n-1} + \\dotsb + a_1 x + a_0 = a_n (x-r_1)(x-r_2) \\dotsb (x-r_n) = 0$\n",
    "\n",
    "Vieta's formulas is as follows:\n",
    "\n",
    "$ \\begin{cases}\n",
    "r_1 r_2 \\dotsb r_n = (-1)^n \\cdot \\frac{a_0}{a_n} \\\\\n",
    "\\vdots \\\\\n",
    "(r_1 r_2 + r_1 r_3 + \\dotsb + r_1 r_n) + (r_2 r_3 + r_2 r_4 + \\dotsb + r_2 r_n) + \\dotsb + r_{n-1} r_n = (-1)^2 \\cdot \\frac{a_{n-2}}{a_n} = \\frac{a_{n-2}}{a_n} \\\\\n",
    "r_1 + r_2 + \\dotsb + r_n = (-1)^1 \\cdot \\frac{a_{n-1}}{a_n} = -\\frac{a_{n-1}}{a_n}\n",
    "\\end{cases} $\n",
    "\n",
    "#### An example of cubic equation:\n",
    "\n",
    "$2 x^3 + 6 x^2 - 5 x + 2 = 0$\n",
    "\n",
    "<b>Questions:</b>\n",
    "\n",
    ">   $r_1 + r_2 + r_3 = ?$\n",
    "\n",
    ">   $r_1 \\cdot r_2 \\cdot r_3 = ?$\n",
    "\n",
    ">   $r_1 \\cdot r_2 + r_1 \\cdot r_3 + r_2 \\cdot r_3 = ?$\n",
    "\n",
    ">   $\\frac{1}{r_1} + \\frac{1}{r_2} + \\frac{1}{r_3} = ?$\n",
    "   \n",
    ">   $ r_1 ^2 + r_2 ^2 + r_3 ^ 2 = ?$\n",
    "\n",
    "<b>Power reduction trick:</b>\n",
    "\n",
    ">   $r_1 ^3 + r_2 ^3 + r_3 ^3 = ?$\n",
    "\n"
   ]
  },
  {
   "attachments": {},
   "cell_type": "markdown",
   "metadata": {},
   "source": [
    "Let $f$ be a function for which $f\\left(\\dfrac{x}{3}\\right) = x^2 + x + 1$. Find the sum of all values of $z$ for which $f(3z) = 7$.\n",
    "\n",
    "(A) -1/3  (B) -1/9  (C) 0  (D) 5/9  (E) 5/3"
   ]
  }
 ],
 "metadata": {
  "interpreter": {
   "hash": "d14c38d234234b969aee73678d168700778a98933f098d78df9f79a7508c5a93"
  },
  "kernelspec": {
   "display_name": "Python 3.9.7 ('dev')",
   "language": "python",
   "name": "python3"
  },
  "language_info": {
   "codemirror_mode": {
    "name": "ipython",
    "version": 3
   },
   "file_extension": ".py",
   "mimetype": "text/x-python",
   "name": "python",
   "nbconvert_exporter": "python",
   "pygments_lexer": "ipython3",
   "version": "3.9.7"
  }
 },
 "nbformat": 4,
 "nbformat_minor": 2
}
