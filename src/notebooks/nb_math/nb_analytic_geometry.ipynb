{
 "cells": [
  {
   "cell_type": "code",
   "execution_count": null,
   "metadata": {},
   "outputs": [],
   "source": [
    "%matplotlib inline\n",
    "import numpy as np\n",
    "import matplotlib.pyplot as plt\n",
    "import ipywidgets as widgets"
   ]
  },
  {
   "attachments": {},
   "cell_type": "markdown",
   "metadata": {},
   "source": [
    "## Analytic Geometry"
   ]
  },
  {
   "attachments": {},
   "cell_type": "markdown",
   "metadata": {},
   "source": [
    "#### Coordinate System"
   ]
  },
  {
   "attachments": {},
   "cell_type": "markdown",
   "metadata": {},
   "source": [
    "- Cartesian coordinates\n",
    "- Polar coordinate\n",
    "- Cylindrical coordinate\n",
    "- Spherical coordinate"
   ]
  },
  {
   "attachments": {},
   "cell_type": "markdown",
   "metadata": {},
   "source": [
    "#### Equation and Curves in 2D Cartesian Coordinate"
   ]
  },
  {
   "attachments": {},
   "cell_type": "markdown",
   "metadata": {},
   "source": [
    "- Define coordinate system:\n",
    "  - Its origin\n",
    "  - Its x-axis: direction and unit distance\n",
    "  - Its y-axis: direction (usually perpendicular to x-axis) and unit distance\n",
    "<br>\n",
    "<br>\n",
    "- Point - 2 degree of freedom, two lines intercept at one point:\n",
    "  - Each point can be represented by a pair of real number coordinate, e.g., $(x, y)$\n",
    "  - Distance between $(x_1, y_1)$ and $(x_2, y_2)$: $d = \\sqrt{(x_2 - x_1)^2 + (y_2 - y_2)^2}$\n",
    "  - Mid-point between $(x_1, y_1)$ and $(x_2, y_2)$: $(\\frac{x_1 + x_2}{2}, \\frac{y_1 + y_2}{2})$ \n",
    "<br>\n",
    "<br>\n",
    "- Line - 2 degree of freedom, two points to determine a line: \n",
    "  - Slope-Intercept form: $y = mx + b$\n",
    "  - Point-Slope form: $y - y_1 = m (x - x_1)$\n",
    "  - Two-Point form: $y - y_1 = \\frac{y_2 - y_1}{x_2 - x_1}(x - x_1)$\n",
    "<br>\n",
    "<br>\n",
    "- Circle - 3 deree of freedom, three points (not colinear) to determine a circle: \n",
    "  - $(x - h)^2 + (y - k)^2 = r^2$\n",
    "  - $x^2 + y^2 + ax + by + c = 0$\n",
    "<br>\n",
    "<br>\n",
    "- Conic sections: $Ax^2 + Bxy + Cy^2 + Dx + Ey + F = 0$\n",
    "  - Circle: $B^2 - 4AC < 0$ ($A = C$ and $B = 0$)\n",
    "  - Ellipse: $B^2 - 4AC < 0$\n",
    "  - Parabola: $B^2 - 4AC = 0$\n",
    "  - Hyperbola: $B^2 - 4AC > 0$"
   ]
  },
  {
   "attachments": {},
   "cell_type": "markdown",
   "metadata": {},
   "source": [
    "#### Cartesian Coordinate & Polar Coordinate"
   ]
  },
  {
   "attachments": {},
   "cell_type": "markdown",
   "metadata": {},
   "source": [
    "- Cartetian to Polar Coordinate:\n",
    "  - $x = r \\cdot cos(\\theta)$\n",
    "  - $y = r \\cdot sin(\\theta)$\n"
   ]
  },
  {
   "attachments": {},
   "cell_type": "markdown",
   "metadata": {},
   "source": [
    "- Polar to Cartetian Coordinate:\n",
    "  - $r = \\sqrt{x^2 + y^2}$\n",
    "  - $cos(\\theta) = x / \\sqrt{x^2 + y^2}$\n",
    "  - $sin(\\theta) = y / \\sqrt{x^2 + y^2}$\n",
    "  - $\\theta = arctan(y/x)$"
   ]
  },
  {
   "attachments": {},
   "cell_type": "markdown",
   "metadata": {},
   "source": [
    "## Plot of Conic Sections"
   ]
  },
  {
   "attachments": {},
   "cell_type": "markdown",
   "metadata": {},
   "source": [
    "Conic sections defined as: $ax^2 + bxy + cy^2 + dx + ey + f = 0$"
   ]
  },
  {
   "cell_type": "code",
   "execution_count": null,
   "metadata": {},
   "outputs": [],
   "source": [
    "def plot_conic_sections(a = 1, b = 0, c = 1, d = 0, e = 0, f = -9):\n",
    "    plt.axhline(0, alpha=.1)\n",
    "    plt.axvline(0, alpha=.1)\n",
    "    plt.gca().set_aspect('equal')\n",
    "\n",
    "    x = np.linspace(-9, 9, 400)\n",
    "    y = np.linspace(-6, 6, 400)\n",
    "    x, y = np.meshgrid(x, y)\n",
    "\n",
    "    plt.contour(x, y, (a*x**2 + b*x*y + c*y**2 + d*x + e*y + f), [0], colors='k')\n",
    "    plt.show()\n",
    "\n",
    "    print(f\"\\t Equation: {a:.2f} x*x + {b:.2f} xy + {c:.2f} y*y + {d:.2f} x + {e:.2f} y + {f:.2f} = 0\")\n",
    "    print(\"\\t Discriminant (b*b - 4ac) = \", b*b - 4 * a * c)\n",
    "\n",
    "interactive_plot = widgets.interactive(plot_conic_sections, a=(-5.0,5.0), b=(-5.0,5.0), c=(-5.0,5.0), d=(-5.0,5.0), e=(-5.0,5.0), f=(-100.0,100.0))\n",
    "output = interactive_plot.children[-1]\n",
    "interactive_plot"
   ]
  },
  {
   "attachments": {},
   "cell_type": "markdown",
   "metadata": {},
   "source": [
    "## Solving Geometry Problems with Analytic Geometry"
   ]
  },
  {
   "attachments": {},
   "cell_type": "markdown",
   "metadata": {},
   "source": [
    "AMC 10 2016 A(19)\n",
    "\n",
    "In rectangle $ABCD,$ $AB=6$ and $BC=3$. Point $E$ between $B$ and $C$, and point $F$ between $E$ and $C$ are such that $BE=EF=FC$. Segments $\\overline{AE}$ and $\\overline{AF}$ intersect $\\overline{BD}$ at $P$ and $Q$, respectively. The ratio $BP:PQ:QD$ can be written as $r:s:t$ where the greatest common factor of $r,s,$ and $t$ is $1.$ What is $r+s+t$?\n",
    "\n",
    "$\\textbf{(A) } 7 \\qquad \\textbf{(B) } 9 \\qquad \\textbf{(C) } 12 \\qquad \\textbf{(D) } 15 \\qquad \\textbf{(E) } 20$"
   ]
  },
  {
   "attachments": {},
   "cell_type": "markdown",
   "metadata": {},
   "source": [
    "AMC 10 2015 B(19)\n",
    "\n",
    "In $\\triangle{ABC}$, $\\angle{C} = 90^{\\circ}$ and $AB = 12$. Squares $ABXY$ and $ACWZ$ are constructed outside of the triangle. The points $X, Y, Z$, and $W$ lie on a circle. What is the perimeter of the triangle?\n",
    "\n",
    "$\\textbf{(A) }12+9\\sqrt{3}\\qquad\\textbf{(B) }18+6\\sqrt{3}\\qquad\\textbf{(C) }12+12\\sqrt{2}\\qquad\\textbf{(D) }30\\qquad\\textbf{(E) }32$"
   ]
  },
  {
   "attachments": {},
   "cell_type": "markdown",
   "metadata": {},
   "source": [
    "Q: A, B are on a circle with radius $5\\sqrt{2}$. B is inside the circle and form a right angle triangle ABC ($\\angle{B} = 90$). $AB = 6$ and $BC = 2$. What is the distance between circle's center $O$ and B? "
   ]
  },
  {
   "attachments": {},
   "cell_type": "markdown",
   "metadata": {},
   "source": [
    "Q: Inside a circle, cord AB and CD are perpendicular to each other and intersect at E. $AE = 2$, $BE = 6$ and $CE = 3$. What is the radius of the circle? "
   ]
  }
 ],
 "metadata": {
  "interpreter": {
   "hash": "d14c38d234234b969aee73678d168700778a98933f098d78df9f79a7508c5a93"
  },
  "kernelspec": {
   "display_name": "Python 3.9.7 ('dev')",
   "language": "python",
   "name": "python3"
  },
  "language_info": {
   "codemirror_mode": {
    "name": "ipython",
    "version": 3
   },
   "file_extension": ".py",
   "mimetype": "text/x-python",
   "name": "python",
   "nbconvert_exporter": "python",
   "pygments_lexer": "ipython3",
   "version": "3.11.3"
  }
 },
 "nbformat": 4,
 "nbformat_minor": 2
}
